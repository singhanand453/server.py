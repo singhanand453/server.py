{
  "nbformat": 4,
  "nbformat_minor": 0,
  "metadata": {
    "colab": {
      "name": "anand.ipynb",
      "provenance": [],
      "include_colab_link": true
    },
    "kernelspec": {
      "name": "python3",
      "display_name": "Python 3"
    }
  },
  "cells": [
    {
      "cell_type": "markdown",
      "metadata": {
        "id": "view-in-github",
        "colab_type": "text"
      },
      "source": [
        "<a href=\"https://colab.research.google.com/github/singhanand453/server.py/blob/master/anand.ipynb\" target=\"_parent\"><img src=\"https://colab.research.google.com/assets/colab-badge.svg\" alt=\"Open In Colab\"/></a>"
      ]
    },
    {
      "cell_type": "code",
      "metadata": {
        "id": "dxINXcRJ_Vud",
        "colab_type": "code",
        "outputId": "2666f64c-1bed-48b9-abe5-995cebc83e49",
        "colab": {
          "base_uri": "https://localhost:8080/",
          "height": 119
        }
      },
      "source": [
        "#print(\"123\")\n",
        "import pandas as pd \n",
        "dict={\"country\":[\"india\",\"usa\",\"england\",\"russia\",\"canada\"],\n",
        "      \"capital\":[\"new delhi\",\"wh dc\",\"london\",\"mosco\",\"otawa\"],\n",
        "      \"population\":[1.3,0.45,0.30,0.52,0.39]}\n",
        "\n",
        "x=pd.DataFrame(dict)\n",
        "x.index=[\"IND\",\"USA\",\"US\",\"RUSS\",\"CA\"]\n",
        "\n",
        "print(x)"
      ],
      "execution_count": 0,
      "outputs": [
        {
          "output_type": "stream",
          "text": [
            "      country    capital  population\n",
            "IND     india  new delhi        1.30\n",
            "USA       usa      wh dc        0.45\n",
            "US    england     london        0.30\n",
            "RUSS   russia      mosco        0.52\n",
            "CA     canada      otawa        0.39\n"
          ],
          "name": "stdout"
        }
      ]
    },
    {
      "cell_type": "code",
      "metadata": {
        "id": "PWL2NWN-Wk4L",
        "colab_type": "code",
        "outputId": "cce4d3f5-0154-44a1-aa71-10911f1dce7f",
        "colab": {
          "base_uri": "https://localhost:8080/",
          "height": 68
        }
      },
      "source": [
        "import numpy as np\n",
        "import numpy.matlib\n",
        "x=np.matlib.zeros((3,3),dtype=int)\n",
        "print(x)"
      ],
      "execution_count": 0,
      "outputs": [
        {
          "output_type": "stream",
          "text": [
            "[[0 0 0]\n",
            " [0 0 0]\n",
            " [0 0 0]]\n"
          ],
          "name": "stdout"
        }
      ]
    },
    {
      "cell_type": "code",
      "metadata": {
        "id": "TWuFv2WZXWoO",
        "colab_type": "code",
        "outputId": "f6a53040-2cb3-40c4-f048-2a4e92eaf2f0",
        "colab": {
          "base_uri": "https://localhost:8080/",
          "height": 51
        }
      },
      "source": [
        "import numpy as np\n",
        "import numpy.matlib\n",
        "print(np.matlib.zeros((2,2)))\n"
      ],
      "execution_count": 0,
      "outputs": [
        {
          "output_type": "stream",
          "text": [
            "[[0. 0.]\n",
            " [0. 0.]]\n"
          ],
          "name": "stdout"
        }
      ]
    },
    {
      "cell_type": "code",
      "metadata": {
        "id": "bWEq0o3nZEBv",
        "colab_type": "code",
        "outputId": "6af3e83f-6d5c-4af6-fd62-53c22ec67621",
        "colab": {
          "base_uri": "https://localhost:8080/",
          "height": 68
        }
      },
      "source": [
        "import numpy as np\n",
        "import numpy.matlib\n",
        "x=np.matlib.eye(n=3,M=3,k=0)\n",
        "print(x)"
      ],
      "execution_count": 0,
      "outputs": [
        {
          "output_type": "stream",
          "text": [
            "[[1. 0. 0.]\n",
            " [0. 1. 0.]\n",
            " [0. 0. 1.]]\n"
          ],
          "name": "stdout"
        }
      ]
    },
    {
      "cell_type": "code",
      "metadata": {
        "id": "4-Lg1_VBZ88c",
        "colab_type": "code",
        "outputId": "c8cf4024-1aa6-4e2c-b348-9d51917578bc",
        "colab": {
          "base_uri": "https://localhost:8080/",
          "height": 102
        }
      },
      "source": [
        "import numpy as np\n",
        "import numpy.matlib\n",
        "x=np.matlib.identity(5,dtype=complex)\n",
        "print(x)\n"
      ],
      "execution_count": 0,
      "outputs": [
        {
          "output_type": "stream",
          "text": [
            "[[1.+0.j 0.+0.j 0.+0.j 0.+0.j 0.+0.j]\n",
            " [0.+0.j 1.+0.j 0.+0.j 0.+0.j 0.+0.j]\n",
            " [0.+0.j 0.+0.j 1.+0.j 0.+0.j 0.+0.j]\n",
            " [0.+0.j 0.+0.j 0.+0.j 1.+0.j 0.+0.j]\n",
            " [0.+0.j 0.+0.j 0.+0.j 0.+0.j 1.+0.j]]\n"
          ],
          "name": "stdout"
        }
      ]
    },
    {
      "cell_type": "code",
      "metadata": {
        "id": "UgmeQK6wce8I",
        "colab_type": "code",
        "outputId": "112c89f2-a8ff-4a46-fc7d-55e6a910ed56",
        "colab": {
          "base_uri": "https://localhost:8080/",
          "height": 102
        }
      },
      "source": [
        "import numpy as np\n",
        "x=np.random.randint(0,100,(5,5))\n",
        "print(x)"
      ],
      "execution_count": 0,
      "outputs": [
        {
          "output_type": "stream",
          "text": [
            "[[15 82 66 83  4]\n",
            " [20 89 57 48 40]\n",
            " [37 25  0 62 84]\n",
            " [ 8 92 32 31 19]\n",
            " [85 24 82 92  6]]\n"
          ],
          "name": "stdout"
        }
      ]
    }
  ]
}